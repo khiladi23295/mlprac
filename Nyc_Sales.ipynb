{
 "cells": [
  {
   "cell_type": "markdown",
   "metadata": {},
   "source": [
    "## NYC Property Sales(https://www.kaggle.com/new-york-city/nyc-property-sales) \n",
    "\n",
    "With this dataset, I will try to create a model that could predict the sale price of a property based on a given set of parameters."
   ]
  },
  {
   "cell_type": "markdown",
   "metadata": {},
   "source": [
    "### Importing all the important libraries and models "
   ]
  },
  {
   "cell_type": "code",
   "execution_count": 1,
   "metadata": {},
   "outputs": [],
   "source": [
    "import pandas as pd\n",
    "import numpy as np\n",
    "\n",
    "from sklearn.model_selection import train_test_split\n",
    "\n",
    "import matplotlib.pyplot as plt\n",
    "\n",
    "from sklearn.preprocessing import StandardScaler\n",
    "from sklearn.model_selection import cross_val_score\n",
    "from sklearn.preprocessing import OneHotEncoder\n",
    "from sklearn.pipeline import Pipeline\n",
    "from sklearn.compose import ColumnTransformer\n",
    "from sklearn.impute import SimpleImputer\n",
    "\n",
    "from sklearn.metrics import mean_squared_error\n",
    "from sklearn.model_selection import GridSearchCV\n",
    "from sklearn.ensemble import RandomForestRegressor\n",
    "from sklearn.linear_model import LinearRegression\n",
    "from sklearn.tree import DecisionTreeRegressor"
   ]
  },
  {
   "cell_type": "markdown",
   "metadata": {},
   "source": [
    "### Useful funtions"
   ]
  },
  {
   "cell_type": "markdown",
   "metadata": {},
   "source": [
    "This function will allow to covert the string categories into limited numerical categories"
   ]
  },
  {
   "cell_type": "code",
   "execution_count": 2,
   "metadata": {},
   "outputs": [],
   "source": [
    "def AssignCat(col, num_cats):\n",
    "    if len(col.value_counts().keys()) < num_cats:\n",
    "        num_cats = len(col.value_counts().keys())\n",
    "    cats =  pd.DataFrame(col.value_counts().nlargest(num_cats - 1))\n",
    "    cats['row_num'] = [str(x+1) for x in range(len(cats))]\n",
    "    cats['name'] = cats.index.values\n",
    "    col = pd.DataFrame({'val': col.values})\n",
    "    col = pd.merge(col, cats, how='left', left_on='val', right_on='name')\n",
    "    col['new'] = col['row_num'].fillna(str(num_cats))\n",
    "    return col['new'].values;"
   ]
  },
  {
   "cell_type": "markdown",
   "metadata": {},
   "source": [
    "This function will help us in displaying the scores of the model"
   ]
  },
  {
   "cell_type": "code",
   "execution_count": 3,
   "metadata": {},
   "outputs": [],
   "source": [
    "def display_scores(scores):\n",
    "    print(\"Scores:\", scores)\n",
    "    print(\"Mean:\", scores.mean())\n",
    "    print(\"Standard deviation:\", scores.std())"
   ]
  },
  {
   "cell_type": "markdown",
   "metadata": {},
   "source": [
    "### Loading and exploring the dataset"
   ]
  },
  {
   "cell_type": "code",
   "execution_count": 4,
   "metadata": {},
   "outputs": [],
   "source": [
    "dataset=pd.read_csv(\"../input/nyc-rolling-sales.csv\")"
   ]
  },
  {
   "cell_type": "markdown",
   "metadata": {},
   "source": [
    "Taking a look at the data to determine what fields will be useful in determining the target value i.e. Sale Price"
   ]
  },
  {
   "cell_type": "code",
   "execution_count": 5,
   "metadata": {},
   "outputs": [
    {
     "data": {
      "text/html": [
       "<div>\n",
       "<style scoped>\n",
       "    .dataframe tbody tr th:only-of-type {\n",
       "        vertical-align: middle;\n",
       "    }\n",
       "\n",
       "    .dataframe tbody tr th {\n",
       "        vertical-align: top;\n",
       "    }\n",
       "\n",
       "    .dataframe thead th {\n",
       "        text-align: right;\n",
       "    }\n",
       "</style>\n",
       "<table border=\"1\" class=\"dataframe\">\n",
       "  <thead>\n",
       "    <tr style=\"text-align: right;\">\n",
       "      <th></th>\n",
       "      <th>Unnamed: 0</th>\n",
       "      <th>BOROUGH</th>\n",
       "      <th>NEIGHBORHOOD</th>\n",
       "      <th>BUILDING CLASS CATEGORY</th>\n",
       "      <th>TAX CLASS AT PRESENT</th>\n",
       "      <th>BLOCK</th>\n",
       "      <th>LOT</th>\n",
       "      <th>EASE-MENT</th>\n",
       "      <th>BUILDING CLASS AT PRESENT</th>\n",
       "      <th>ADDRESS</th>\n",
       "      <th>...</th>\n",
       "      <th>RESIDENTIAL UNITS</th>\n",
       "      <th>COMMERCIAL UNITS</th>\n",
       "      <th>TOTAL UNITS</th>\n",
       "      <th>LAND SQUARE FEET</th>\n",
       "      <th>GROSS SQUARE FEET</th>\n",
       "      <th>YEAR BUILT</th>\n",
       "      <th>TAX CLASS AT TIME OF SALE</th>\n",
       "      <th>BUILDING CLASS AT TIME OF SALE</th>\n",
       "      <th>SALE PRICE</th>\n",
       "      <th>SALE DATE</th>\n",
       "    </tr>\n",
       "  </thead>\n",
       "  <tbody>\n",
       "    <tr>\n",
       "      <th>0</th>\n",
       "      <td>4</td>\n",
       "      <td>1</td>\n",
       "      <td>ALPHABET CITY</td>\n",
       "      <td>07 RENTALS - WALKUP APARTMENTS</td>\n",
       "      <td>2A</td>\n",
       "      <td>392</td>\n",
       "      <td>6</td>\n",
       "      <td></td>\n",
       "      <td>C2</td>\n",
       "      <td>153 AVENUE B</td>\n",
       "      <td>...</td>\n",
       "      <td>5</td>\n",
       "      <td>0</td>\n",
       "      <td>5</td>\n",
       "      <td>1633</td>\n",
       "      <td>6440</td>\n",
       "      <td>1900</td>\n",
       "      <td>2</td>\n",
       "      <td>C2</td>\n",
       "      <td>6625000</td>\n",
       "      <td>2017-07-19 00:00:00</td>\n",
       "    </tr>\n",
       "    <tr>\n",
       "      <th>1</th>\n",
       "      <td>5</td>\n",
       "      <td>1</td>\n",
       "      <td>ALPHABET CITY</td>\n",
       "      <td>07 RENTALS - WALKUP APARTMENTS</td>\n",
       "      <td>2</td>\n",
       "      <td>399</td>\n",
       "      <td>26</td>\n",
       "      <td></td>\n",
       "      <td>C7</td>\n",
       "      <td>234 EAST 4TH   STREET</td>\n",
       "      <td>...</td>\n",
       "      <td>28</td>\n",
       "      <td>3</td>\n",
       "      <td>31</td>\n",
       "      <td>4616</td>\n",
       "      <td>18690</td>\n",
       "      <td>1900</td>\n",
       "      <td>2</td>\n",
       "      <td>C7</td>\n",
       "      <td>-</td>\n",
       "      <td>2016-12-14 00:00:00</td>\n",
       "    </tr>\n",
       "    <tr>\n",
       "      <th>2</th>\n",
       "      <td>6</td>\n",
       "      <td>1</td>\n",
       "      <td>ALPHABET CITY</td>\n",
       "      <td>07 RENTALS - WALKUP APARTMENTS</td>\n",
       "      <td>2</td>\n",
       "      <td>399</td>\n",
       "      <td>39</td>\n",
       "      <td></td>\n",
       "      <td>C7</td>\n",
       "      <td>197 EAST 3RD   STREET</td>\n",
       "      <td>...</td>\n",
       "      <td>16</td>\n",
       "      <td>1</td>\n",
       "      <td>17</td>\n",
       "      <td>2212</td>\n",
       "      <td>7803</td>\n",
       "      <td>1900</td>\n",
       "      <td>2</td>\n",
       "      <td>C7</td>\n",
       "      <td>-</td>\n",
       "      <td>2016-12-09 00:00:00</td>\n",
       "    </tr>\n",
       "    <tr>\n",
       "      <th>3</th>\n",
       "      <td>7</td>\n",
       "      <td>1</td>\n",
       "      <td>ALPHABET CITY</td>\n",
       "      <td>07 RENTALS - WALKUP APARTMENTS</td>\n",
       "      <td>2B</td>\n",
       "      <td>402</td>\n",
       "      <td>21</td>\n",
       "      <td></td>\n",
       "      <td>C4</td>\n",
       "      <td>154 EAST 7TH STREET</td>\n",
       "      <td>...</td>\n",
       "      <td>10</td>\n",
       "      <td>0</td>\n",
       "      <td>10</td>\n",
       "      <td>2272</td>\n",
       "      <td>6794</td>\n",
       "      <td>1913</td>\n",
       "      <td>2</td>\n",
       "      <td>C4</td>\n",
       "      <td>3936272</td>\n",
       "      <td>2016-09-23 00:00:00</td>\n",
       "    </tr>\n",
       "    <tr>\n",
       "      <th>4</th>\n",
       "      <td>8</td>\n",
       "      <td>1</td>\n",
       "      <td>ALPHABET CITY</td>\n",
       "      <td>07 RENTALS - WALKUP APARTMENTS</td>\n",
       "      <td>2A</td>\n",
       "      <td>404</td>\n",
       "      <td>55</td>\n",
       "      <td></td>\n",
       "      <td>C2</td>\n",
       "      <td>301 EAST 10TH   STREET</td>\n",
       "      <td>...</td>\n",
       "      <td>6</td>\n",
       "      <td>0</td>\n",
       "      <td>6</td>\n",
       "      <td>2369</td>\n",
       "      <td>4615</td>\n",
       "      <td>1900</td>\n",
       "      <td>2</td>\n",
       "      <td>C2</td>\n",
       "      <td>8000000</td>\n",
       "      <td>2016-11-17 00:00:00</td>\n",
       "    </tr>\n",
       "  </tbody>\n",
       "</table>\n",
       "<p>5 rows × 22 columns</p>\n",
       "</div>"
      ],
      "text/plain": [
       "   Unnamed: 0  BOROUGH   NEIGHBORHOOD  \\\n",
       "0           4        1  ALPHABET CITY   \n",
       "1           5        1  ALPHABET CITY   \n",
       "2           6        1  ALPHABET CITY   \n",
       "3           7        1  ALPHABET CITY   \n",
       "4           8        1  ALPHABET CITY   \n",
       "\n",
       "                       BUILDING CLASS CATEGORY TAX CLASS AT PRESENT  BLOCK  \\\n",
       "0  07 RENTALS - WALKUP APARTMENTS                                2A    392   \n",
       "1  07 RENTALS - WALKUP APARTMENTS                                 2    399   \n",
       "2  07 RENTALS - WALKUP APARTMENTS                                 2    399   \n",
       "3  07 RENTALS - WALKUP APARTMENTS                                2B    402   \n",
       "4  07 RENTALS - WALKUP APARTMENTS                                2A    404   \n",
       "\n",
       "   LOT EASE-MENT BUILDING CLASS AT PRESENT                 ADDRESS  \\\n",
       "0    6                                  C2            153 AVENUE B   \n",
       "1   26                                  C7   234 EAST 4TH   STREET   \n",
       "2   39                                  C7   197 EAST 3RD   STREET   \n",
       "3   21                                  C4     154 EAST 7TH STREET   \n",
       "4   55                                  C2  301 EAST 10TH   STREET   \n",
       "\n",
       "          ...          RESIDENTIAL UNITS  COMMERCIAL UNITS  TOTAL UNITS  \\\n",
       "0         ...                          5                 0            5   \n",
       "1         ...                         28                 3           31   \n",
       "2         ...                         16                 1           17   \n",
       "3         ...                         10                 0           10   \n",
       "4         ...                          6                 0            6   \n",
       "\n",
       "   LAND SQUARE FEET  GROSS SQUARE FEET YEAR BUILT TAX CLASS AT TIME OF SALE  \\\n",
       "0              1633               6440       1900                         2   \n",
       "1              4616              18690       1900                         2   \n",
       "2              2212               7803       1900                         2   \n",
       "3              2272               6794       1913                         2   \n",
       "4              2369               4615       1900                         2   \n",
       "\n",
       "   BUILDING CLASS AT TIME OF SALE  SALE PRICE            SALE DATE  \n",
       "0                              C2     6625000  2017-07-19 00:00:00  \n",
       "1                              C7         -    2016-12-14 00:00:00  \n",
       "2                              C7         -    2016-12-09 00:00:00  \n",
       "3                              C4     3936272  2016-09-23 00:00:00  \n",
       "4                              C2     8000000  2016-11-17 00:00:00  \n",
       "\n",
       "[5 rows x 22 columns]"
      ]
     },
     "execution_count": 5,
     "metadata": {},
     "output_type": "execute_result"
    }
   ],
   "source": [
    "dataset.head()"
   ]
  },
  {
   "cell_type": "code",
   "execution_count": 6,
   "metadata": {},
   "outputs": [
    {
     "data": {
      "text/plain": [
       "(84548, 22)"
      ]
     },
     "execution_count": 6,
     "metadata": {},
     "output_type": "execute_result"
    }
   ],
   "source": [
    "dataset.shape"
   ]
  },
  {
   "cell_type": "markdown",
   "metadata": {},
   "source": [
    "Lets correct the data type for some of the fields so that we can calculate the co-relation between each of the attributes. This will help us in determining which attributes are important in predicting the sale price."
   ]
  },
  {
   "cell_type": "code",
   "execution_count": 7,
   "metadata": {},
   "outputs": [
    {
     "name": "stdout",
     "output_type": "stream",
     "text": [
      "<class 'pandas.core.frame.DataFrame'>\n",
      "RangeIndex: 84548 entries, 0 to 84547\n",
      "Data columns (total 22 columns):\n",
      "Unnamed: 0                        84548 non-null int64\n",
      "BOROUGH                           84548 non-null int64\n",
      "NEIGHBORHOOD                      84548 non-null object\n",
      "BUILDING CLASS CATEGORY           84548 non-null object\n",
      "TAX CLASS AT PRESENT              84548 non-null object\n",
      "BLOCK                             84548 non-null int64\n",
      "LOT                               84548 non-null int64\n",
      "EASE-MENT                         84548 non-null object\n",
      "BUILDING CLASS AT PRESENT         84548 non-null object\n",
      "ADDRESS                           84548 non-null object\n",
      "APARTMENT NUMBER                  84548 non-null object\n",
      "ZIP CODE                          84548 non-null int64\n",
      "RESIDENTIAL UNITS                 84548 non-null int64\n",
      "COMMERCIAL UNITS                  84548 non-null int64\n",
      "TOTAL UNITS                       84548 non-null int64\n",
      "LAND SQUARE FEET                  84548 non-null object\n",
      "GROSS SQUARE FEET                 84548 non-null object\n",
      "YEAR BUILT                        84548 non-null int64\n",
      "TAX CLASS AT TIME OF SALE         84548 non-null int64\n",
      "BUILDING CLASS AT TIME OF SALE    84548 non-null object\n",
      "SALE PRICE                        84548 non-null object\n",
      "SALE DATE                         84548 non-null object\n",
      "dtypes: int64(10), object(12)\n",
      "memory usage: 14.2+ MB\n"
     ]
    }
   ],
   "source": [
    "dataset.info()"
   ]
  },
  {
   "cell_type": "code",
   "execution_count": 8,
   "metadata": {},
   "outputs": [],
   "source": [
    "dataset[\"LAND SQUARE FEET\"]=pd.to_numeric(dataset[\"LAND SQUARE FEET\"],errors=\"coerce\")\n",
    "dataset[\"GROSS SQUARE FEET\"]=pd.to_numeric(dataset[\"GROSS SQUARE FEET\"],errors=\"coerce\")\n",
    "dataset[\"SALE PRICE\"]=pd.to_numeric(dataset[\"SALE PRICE\"],errors=\"coerce\")\n",
    "dataset['SALE DATE'] = pd.to_datetime(dataset['SALE DATE'], format = '%Y-%m-%d %H:%M:%S')\n",
    "dataset[\"SALE YEAR\"] = dataset[\"SALE DATE\"].dt.year # Just extracting the sale year to see if it has any strong co-relation\n",
    "# dataset[\"AGE\"]=dataset[\"SALE YEAR\"]-dataset[\"YEAR BUILT\"] # Adding one more feature just to check if it helps"
   ]
  },
  {
   "cell_type": "markdown",
   "metadata": {},
   "source": [
    "Lets calculate the co-relation matrix"
   ]
  },
  {
   "cell_type": "code",
   "execution_count": 9,
   "metadata": {},
   "outputs": [
    {
     "data": {
      "text/plain": [
       "SALE PRICE                   1.000000\n",
       "GROSS SQUARE FEET            0.455423\n",
       "TOTAL UNITS                  0.125101\n",
       "RESIDENTIAL UNITS            0.119698\n",
       "TAX CLASS AT TIME OF SALE    0.091352\n",
       "LAND SQUARE FEET             0.060183\n",
       "COMMERCIAL UNITS             0.046006\n",
       "LOT                          0.012324\n",
       "SALE YEAR                   -0.002167\n",
       "YEAR BUILT                  -0.003539\n",
       "Unnamed: 0                  -0.016296\n",
       "ZIP CODE                    -0.034170\n",
       "BLOCK                       -0.061139\n",
       "BOROUGH                     -0.074418\n",
       "Name: SALE PRICE, dtype: float64"
      ]
     },
     "execution_count": 9,
     "metadata": {},
     "output_type": "execute_result"
    }
   ],
   "source": [
    "corr_matrix=dataset.corr()\n",
    "corr_matrix[\"SALE PRICE\"].sort_values(ascending=False)"
   ]
  },
  {
   "cell_type": "markdown",
   "metadata": {},
   "source": [
    "Based on the above corelation data, I will be dropping some of the columns from the dataset.\n",
    "  **\"Unnamed: 0\" and \"EASE-MENT\"** are empty columns\n",
    "  **\"APARTMENT NUMBER\",\"NEIGHBORHOOD\",\"LOT\",\"ADDRESS\"** They have too much randomness in the data. A single instance does not                                                            have enough occurences to be useful for the algorithm."
   ]
  },
  {
   "cell_type": "code",
   "execution_count": 10,
   "metadata": {},
   "outputs": [],
   "source": [
    "dataset=dataset.drop([\"Unnamed: 0\",\"EASE-MENT\",\"APARTMENT NUMBER\",\"NEIGHBORHOOD\",\"LOT\",\"ADDRESS\",],axis=1)"
   ]
  },
  {
   "cell_type": "markdown",
   "metadata": {},
   "source": [
    "## Lets perform some cleaning on the dataset"
   ]
  },
  {
   "cell_type": "markdown",
   "metadata": {},
   "source": [
    "### **1. SALE PRICE**\n",
    "\n",
    "Starting with the Sale Price, lets have a look at the values which are valid and how they are distributed to determine the outliers in the data."
   ]
  },
  {
   "cell_type": "code",
   "execution_count": 11,
   "metadata": {},
   "outputs": [
    {
     "data": {
      "text/plain": [
       "0.0         10228\n",
       "10.0          766\n",
       "450000.0      427\n",
       "550000.0      416\n",
       "650000.0      414\n",
       "Name: SALE PRICE, dtype: int64"
      ]
     },
     "execution_count": 11,
     "metadata": {},
     "output_type": "execute_result"
    }
   ],
   "source": [
    "dataset[\"SALE PRICE\"].value_counts()[:5,]"
   ]
  },
  {
   "cell_type": "code",
   "execution_count": 12,
   "metadata": {},
   "outputs": [
    {
     "data": {
      "text/plain": [
       "14561"
      ]
     },
     "execution_count": 12,
     "metadata": {},
     "output_type": "execute_result"
    }
   ],
   "source": [
    "null_values=84548-sum(dataset[\"SALE PRICE\"].value_counts())\n",
    "null_values"
   ]
  },
  {
   "cell_type": "markdown",
   "metadata": {},
   "source": [
    "There are around 24000 invalid values. I will have to drop all of them beacause \n",
    "* It is a dependent variable,which I have to predict. So imputing the missing values does not make any sense.\n",
    "* Given in the description of the dataset, sale price = 0 means, the property was transferred from parent to child"
   ]
  },
  {
   "cell_type": "code",
   "execution_count": 13,
   "metadata": {},
   "outputs": [],
   "source": [
    "dataset=dataset[dataset[\"SALE PRICE\"].notnull()]\n",
    "dataset=dataset[dataset[\"SALE PRICE\"]>0]"
   ]
  },
  {
   "cell_type": "markdown",
   "metadata": {},
   "source": [
    "Before moving on lets look at the frequency distribution of the sale price and later deal with the outlier data"
   ]
  },
  {
   "cell_type": "code",
   "execution_count": 14,
   "metadata": {},
   "outputs": [
    {
     "data": {
      "image/png": "[encoded data removed]",
      "text/plain": [
       "<Figure size 864x360 with 2 Axes>"
      ]
     },
     "metadata": {
      "needs_background": "light"
     },
     "output_type": "display_data"
    }
   ],
   "source": [
    "%matplotlib inline\n",
    "# The first plot shows that most of the sale price is under 50,00,000\n",
    "plt.subplot(1,2,1)\n",
    "dataset[\"SALE PRICE\"].hist(bins=50,figsize=(6,5))\n",
    "plt.title('Histogram of SALE PRICE in USD')\n",
    "plt.ylabel('Frequency')\n",
    "plt.xlabel('Sale Price')\n",
    "\n",
    "# The second plot will show a more detailed view of the prices under 50,00,000\n",
    "plt.subplot(1,2,2)\n",
    "dataset1=dataset[(dataset[\"SALE PRICE\"]>100000) & (dataset[\"SALE PRICE\"]<5000000)]\n",
    "dataset1[\"SALE PRICE\"].hist(bins=50,figsize=(12,5))\n",
    "plt.ylabel('Frequency')\n",
    "plt.xlabel('Sale Price')\n",
    "\n",
    "\n",
    "plt.show()"
   ]
  },
  {
   "cell_type": "markdown",
   "metadata": {},
   "source": [
    "Lets remove the outlier sale price data"
   ]
  },
  {
   "cell_type": "code",
   "execution_count": 15,
   "metadata": {},
   "outputs": [
    {
     "data": {
      "image/png": "[encoded data removed]",
      "text/plain": [
       "<Figure size 864x360 with 1 Axes>"
      ]
     },
     "metadata": {
      "needs_background": "light"
     },
     "output_type": "display_data"
    }
   ],
   "source": [
    "dataset[\"LOG PRICE\"]=dataset[\"SALE PRICE\"].apply(np.log)\n",
    "dataset[\"LOG PRICE\"].hist(bins=60,figsize=(12,5))\n",
    "plt.show()"
   ]
  },
  {
   "cell_type": "code",
   "execution_count": 16,
   "metadata": {},
   "outputs": [],
   "source": [
    "price_mean=dataset[\"LOG PRICE\"].mean()\n",
    "std_dev=np.std(dataset[\"LOG PRICE\"])\n",
    "dataset=dataset[dataset[\"LOG PRICE\"] >= (price_mean - std_dev*3)]\n",
    "dataset=dataset[dataset[\"LOG PRICE\"] <= (price_mean + std_dev*3)]"
   ]
  },
  {
   "cell_type": "code",
   "execution_count": 17,
   "metadata": {},
   "outputs": [
    {
     "data": {
      "text/plain": [
       "(58548, 18)"
      ]
     },
     "execution_count": 17,
     "metadata": {},
     "output_type": "execute_result"
    }
   ],
   "source": [
    "# We are left with 58548 data instances\n",
    "dataset.shape"
   ]
  },
  {
   "cell_type": "markdown",
   "metadata": {},
   "source": [
    "### **2. BOROUGH**\n",
    "    These are some kind of location codes, which are as follows:\n",
    "         Manhattan (1), Bronx (2), Brooklyn (3), Queens (4), and Staten Island (5)"
   ]
  },
  {
   "cell_type": "code",
   "execution_count": 18,
   "metadata": {},
   "outputs": [
    {
     "data": {
      "text/plain": [
       "4    18092\n",
       "3    15323\n",
       "1    14271\n",
       "5     5855\n",
       "2     5007\n",
       "Name: BOROUGH, dtype: int64"
      ]
     },
     "execution_count": 18,
     "metadata": {},
     "output_type": "execute_result"
    }
   ],
   "source": [
    "#Everything seems to be ok here, no null or 0 values\n",
    "dataset[\"BOROUGH\"].value_counts()"
   ]
  },
  {
   "cell_type": "markdown",
   "metadata": {},
   "source": [
    "### **2. BUILDING CLASS CATEGORY**\n",
    "     Lets take a look at the top 5 categories for this field(Because there are too many)."
   ]
  },
  {
   "cell_type": "code",
   "execution_count": 19,
   "metadata": {},
   "outputs": [
    {
     "data": {
      "text/plain": [
       "01 ONE FAMILY DWELLINGS                        12690\n",
       "10 COOPS - ELEVATOR APARTMENTS                 11520\n",
       "13 CONDOS - ELEVATOR APARTMENTS                10264\n",
       "02 TWO FAMILY DWELLINGS                         9849\n",
       "09 COOPS - WALKUP APARTMENTS                    2504\n",
       "Name: BUILDING CLASS CATEGORY, dtype: int64"
      ]
     },
     "execution_count": 19,
     "metadata": {},
     "output_type": "execute_result"
    }
   ],
   "source": [
    "dataset[\"BUILDING CLASS CATEGORY\"].value_counts()[:5,]"
   ]
  },
  {
   "cell_type": "markdown",
   "metadata": {},
   "source": [
    "The way I will be dealing with this data is that I will take top 4 categories as it is and combine the rest of the categories as one. So in total we will have only 5 categories."
   ]
  },
  {
   "cell_type": "code",
   "execution_count": 20,
   "metadata": {},
   "outputs": [
    {
     "data": {
      "text/plain": [
       "5    14225\n",
       "1    12690\n",
       "2    11520\n",
       "3    10264\n",
       "4     9849\n",
       "Name: BCC, dtype: int64"
      ]
     },
     "execution_count": 20,
     "metadata": {},
     "output_type": "execute_result"
    }
   ],
   "source": [
    "dataset[\"BCC\"]=AssignCat(dataset[\"BUILDING CLASS CATEGORY\"],5) #Sortening the name so it will be easy to access it later\n",
    "dataset[\"BCC\"].value_counts()"
   ]
  },
  {
   "cell_type": "markdown",
   "metadata": {},
   "source": [
    "### 3.TAX CLASS AT PRESENT\n",
    "       I will dealing with this in the same way as BUILDING CLASS CATEGORY but instead of 5, i will be having only 3 categories"
   ]
  },
  {
   "cell_type": "code",
   "execution_count": 21,
   "metadata": {},
   "outputs": [
    {
     "data": {
      "text/plain": [
       "2     25678\n",
       "1     24915\n",
       "4      2465\n",
       "2C     1542\n",
       "2A     1252\n",
       "Name: TAX CLASS AT PRESENT, dtype: int64"
      ]
     },
     "execution_count": 21,
     "metadata": {},
     "output_type": "execute_result"
    }
   ],
   "source": [
    "dataset[\"TAX CLASS AT PRESENT\"].value_counts()[:5,]"
   ]
  },
  {
   "cell_type": "code",
   "execution_count": 22,
   "metadata": {},
   "outputs": [
    {
     "data": {
      "text/plain": [
       "1    25678\n",
       "2    24915\n",
       "3     7955\n",
       "Name: TCAP, dtype: int64"
      ]
     },
     "execution_count": 22,
     "metadata": {},
     "output_type": "execute_result"
    }
   ],
   "source": [
    "dataset[\"TCAP\"]=AssignCat(dataset[\"TAX CLASS AT PRESENT\"],3)\n",
    "dataset[\"TCAP\"].value_counts()"
   ]
  },
  {
   "cell_type": "markdown",
   "metadata": {},
   "source": [
    "### 4. BLOCK\n",
    "     No changes here,everything seems to be OK. There are not any invalid values present for this attribute."
   ]
  },
  {
   "cell_type": "code",
   "execution_count": 23,
   "metadata": {},
   "outputs": [
    {
     "data": {
      "text/plain": [
       "58548"
      ]
     },
     "execution_count": 23,
     "metadata": {},
     "output_type": "execute_result"
    }
   ],
   "source": [
    "sum(dataset[\"BLOCK\"].value_counts())"
   ]
  },
  {
   "cell_type": "markdown",
   "metadata": {},
   "source": [
    "### 5. BUILDING CLASS AT PRESENT\n",
    "       I will dealing with this in the same way as BUILDING CLASS CATEGORY."
   ]
  },
  {
   "cell_type": "code",
   "execution_count": 24,
   "metadata": {},
   "outputs": [
    {
     "data": {
      "text/plain": [
       "D4    11311\n",
       "R4     9776\n",
       "A1     4729\n",
       "A5     4071\n",
       "B2     3199\n",
       "Name: BUILDING CLASS AT PRESENT, dtype: int64"
      ]
     },
     "execution_count": 24,
     "metadata": {},
     "output_type": "execute_result"
    }
   ],
   "source": [
    "dataset[\"BUILDING CLASS AT PRESENT\"].value_counts()[:5,]"
   ]
  },
  {
   "cell_type": "code",
   "execution_count": 25,
   "metadata": {},
   "outputs": [
    {
     "data": {
      "text/plain": [
       "4    32732\n",
       "1    11311\n",
       "2     9776\n",
       "3     4729\n",
       "Name: BCAP, dtype: int64"
      ]
     },
     "execution_count": 25,
     "metadata": {},
     "output_type": "execute_result"
    }
   ],
   "source": [
    "dataset[\"BCAP\"]=AssignCat(dataset[\"BUILDING CLASS AT PRESENT\"],4)\n",
    "dataset[\"BCAP\"].value_counts()"
   ]
  },
  {
   "cell_type": "markdown",
   "metadata": {},
   "source": [
    "### 6. RESIDENTIAL UNITS, COMMERCIAL UNITS, TOTAL UNITS"
   ]
  },
  {
   "cell_type": "code",
   "execution_count": 26,
   "metadata": {},
   "outputs": [],
   "source": [
    "# As we saw earlier that total units is much more strongly co-related to sale price than residential and commercial units. So\n",
    "# I will fix the Total Units field as there are some irregularities. I will show you one by one. Also I will impute all the \n",
    "# missing values later using pipelines."
   ]
  },
  {
   "cell_type": "code",
   "execution_count": 27,
   "metadata": {},
   "outputs": [
    {
     "data": {
      "text/plain": [
       "741"
      ]
     },
     "execution_count": 27,
     "metadata": {},
     "output_type": "execute_result"
    }
   ],
   "source": [
    "# First irregularity is that in mone instances the sum of residential units and commercial units is not same\n",
    "len(dataset[dataset[\"TOTAL UNITS\"]!=dataset[\"RESIDENTIAL UNITS\"]+dataset[\"COMMERCIAL UNITS\"]])"
   ]
  },
  {
   "cell_type": "code",
   "execution_count": 28,
   "metadata": {},
   "outputs": [
    {
     "data": {
      "text/plain": [
       "0"
      ]
     },
     "execution_count": 28,
     "metadata": {},
     "output_type": "execute_result"
    }
   ],
   "source": [
    "dataset[\"TOTAL UNITS\"]=dataset[\"RESIDENTIAL UNITS\"]+dataset[\"COMMERCIAL UNITS\"]\n",
    "len(dataset[dataset[\"TOTAL UNITS\"]!=dataset[\"RESIDENTIAL UNITS\"]+dataset[\"COMMERCIAL UNITS\"]]) # just a precaution"
   ]
  },
  {
   "cell_type": "markdown",
   "metadata": {},
   "source": [
    "Lets check for any invalid data like total units=0"
   ]
  },
  {
   "cell_type": "code",
   "execution_count": 29,
   "metadata": {},
   "outputs": [
    {
     "data": {
      "text/plain": [
       "17232"
      ]
     },
     "execution_count": 29,
     "metadata": {},
     "output_type": "execute_result"
    }
   ],
   "source": [
    "# Thats a lot of data missing, deleting it won't do any good, so i will impute it later.There are 2 possibilities,either the \n",
    "# data was not collected properly or building has not been built yet.\n",
    "len(dataset[dataset[\"TOTAL UNITS\"]==0])"
   ]
  },
  {
   "cell_type": "markdown",
   "metadata": {},
   "source": [
    "### 7. LAND SQUARE FEET\n",
    "       Lets deal with all the unavailable values."
   ]
  },
  {
   "cell_type": "code",
   "execution_count": 30,
   "metadata": {},
   "outputs": [
    {
     "data": {
      "text/plain": [
       "0.0       8083\n",
       "2000.0    2382\n",
       "2500.0    2126\n",
       "4000.0    1914\n",
       "1800.0     762\n",
       "Name: LAND SQUARE FEET, dtype: int64"
      ]
     },
     "execution_count": 30,
     "metadata": {},
     "output_type": "execute_result"
    }
   ],
   "source": [
    "dataset[\"LAND SQUARE FEET\"].value_counts()[:5,]"
   ]
  },
  {
   "cell_type": "code",
   "execution_count": 31,
   "metadata": {},
   "outputs": [
    {
     "data": {
      "text/plain": [
       "(58548, 21)"
      ]
     },
     "execution_count": 31,
     "metadata": {},
     "output_type": "execute_result"
    }
   ],
   "source": [
    "dataset.shape"
   ]
  },
  {
   "cell_type": "code",
   "execution_count": 32,
   "metadata": {},
   "outputs": [
    {
     "data": {
      "text/plain": [
       "37530"
      ]
     },
     "execution_count": 32,
     "metadata": {},
     "output_type": "execute_result"
    }
   ],
   "source": [
    "sum(dataset[\"LAND SQUARE FEET\"].value_counts())  # Seems like around 21000 values are Nan,29000 values are 0(very few valid values)\n",
    "#                                                   gotta replace them with 0 to impute later"
   ]
  },
  {
   "cell_type": "code",
   "execution_count": 33,
   "metadata": {},
   "outputs": [],
   "source": [
    "dataset.fillna(value=0,inplace=True)"
   ]
  },
  {
   "cell_type": "markdown",
   "metadata": {},
   "source": [
    "### 8. GROSS SQUARE FEET\n",
    "   "
   ]
  },
  {
   "cell_type": "code",
   "execution_count": 34,
   "metadata": {},
   "outputs": [
    {
     "data": {
      "text/plain": [
       "0.0       30085\n",
       "1800.0      244\n",
       "1600.0      235\n",
       "1440.0      235\n",
       "2400.0      232\n",
       "Name: GROSS SQUARE FEET, dtype: int64"
      ]
     },
     "execution_count": 34,
     "metadata": {},
     "output_type": "execute_result"
    }
   ],
   "source": [
    "dataset[\"GROSS SQUARE FEET\"].value_counts()[:5,]"
   ]
  },
  {
   "cell_type": "code",
   "execution_count": 35,
   "metadata": {},
   "outputs": [
    {
     "data": {
      "text/plain": [
       "58548"
      ]
     },
     "execution_count": 35,
     "metadata": {},
     "output_type": "execute_result"
    }
   ],
   "source": [
    "sum(dataset[\"GROSS SQUARE FEET\"].value_counts()) # I have already replaced Nan vlaues with 0, so 30,000 values are unavailable\n",
    "#                                                   this dataset has very large number of missing values, I have a feeling \n",
    "#                                                   the algorithms are not going to perform well on this dataset."
   ]
  },
  {
   "cell_type": "markdown",
   "metadata": {},
   "source": [
    "### 9. YEAR BUILT\n",
    "        Lets see how much data available here is valid"
   ]
  },
  {
   "cell_type": "code",
   "execution_count": 36,
   "metadata": {},
   "outputs": [
    {
     "data": {
      "text/plain": [
       "4166"
      ]
     },
     "execution_count": 36,
     "metadata": {},
     "output_type": "execute_result"
    }
   ],
   "source": [
    "len(dataset[dataset[\"YEAR BUILT\"]==0]) #This means that the buildings are not built yet, since there are like only 4000 of them, we can delete these instances"
   ]
  },
  {
   "cell_type": "code",
   "execution_count": 37,
   "metadata": {},
   "outputs": [
    {
     "data": {
      "text/plain": [
       "0"
      ]
     },
     "execution_count": 37,
     "metadata": {},
     "output_type": "execute_result"
    }
   ],
   "source": [
    "dataset=dataset[dataset[\"YEAR BUILT\"]>0]\n",
    "len(dataset[dataset[\"YEAR BUILT\"]==0]) # just to check"
   ]
  },
  {
   "cell_type": "code",
   "execution_count": 38,
   "metadata": {},
   "outputs": [
    {
     "data": {
      "text/plain": [
       "(54382, 21)"
      ]
     },
     "execution_count": 38,
     "metadata": {},
     "output_type": "execute_result"
    }
   ],
   "source": [
    "dataset.shape"
   ]
  },
  {
   "cell_type": "markdown",
   "metadata": {},
   "source": [
    "### 10. TAX CLASS AT TIME OF SALE"
   ]
  },
  {
   "cell_type": "code",
   "execution_count": 39,
   "metadata": {},
   "outputs": [
    {
     "name": "stdout",
     "output_type": "stream",
     "text": [
      "2    26531\n",
      "1    25857\n",
      "4     1994\n",
      "Name: TAX CLASS AT TIME OF SALE, dtype: int64\n",
      "SUM : 54382\n"
     ]
    }
   ],
   "source": [
    "print(dataset[\"TAX CLASS AT TIME OF SALE\"].value_counts())\n",
    "print(\"SUM :\",sum(dataset[\"TAX CLASS AT TIME OF SALE\"].value_counts())) # There are no null values prsent here"
   ]
  },
  {
   "cell_type": "markdown",
   "metadata": {},
   "source": [
    "### 11. BUILDING CLASS AT TIME OF SALE"
   ]
  },
  {
   "cell_type": "code",
   "execution_count": 40,
   "metadata": {},
   "outputs": [
    {
     "data": {
      "text/plain": [
       "D4    11313\n",
       "R4     7965\n",
       "A1     4727\n",
       "A5     4057\n",
       "B2     3192\n",
       "Name: BUILDING CLASS AT TIME OF SALE, dtype: int64"
      ]
     },
     "execution_count": 40,
     "metadata": {},
     "output_type": "execute_result"
    }
   ],
   "source": [
    "dataset[\"BUILDING CLASS AT TIME OF SALE\"].value_counts()[:5,]"
   ]
  },
  {
   "cell_type": "code",
   "execution_count": 41,
   "metadata": {},
   "outputs": [
    {
     "data": {
      "text/plain": [
       "4    30377\n",
       "1    11313\n",
       "2     7965\n",
       "3     4727\n",
       "Name: BCATOS, dtype: int64"
      ]
     },
     "execution_count": 41,
     "metadata": {},
     "output_type": "execute_result"
    }
   ],
   "source": [
    "dataset[\"BCATOS\"]=AssignCat(dataset[\"BUILDING CLASS AT TIME OF SALE\"],4) # Taking the top 3 and combining the rest\n",
    "dataset[\"BCATOS\"].value_counts()"
   ]
  },
  {
   "cell_type": "markdown",
   "metadata": {},
   "source": [
    "### 12. SALE DATE\n",
    "         I extracted Sale Year from this, after which I will use it to calculate the Age of the buildings which could prove \n",
    "         to be a much better attribute than SALE DATE"
   ]
  },
  {
   "cell_type": "code",
   "execution_count": 42,
   "metadata": {},
   "outputs": [],
   "source": [
    "dataset[\"AGE\"]=dataset[\"SALE YEAR\"]-dataset[\"YEAR BUILT\"]"
   ]
  },
  {
   "cell_type": "markdown",
   "metadata": {},
   "source": [
    "Lets have a last look at all the data features"
   ]
  },
  {
   "cell_type": "code",
   "execution_count": 43,
   "metadata": {},
   "outputs": [
    {
     "data": {
      "text/plain": [
       "(54382, 23)"
      ]
     },
     "execution_count": 43,
     "metadata": {},
     "output_type": "execute_result"
    }
   ],
   "source": [
    "dataset.shape"
   ]
  },
  {
   "cell_type": "code",
   "execution_count": 44,
   "metadata": {},
   "outputs": [
    {
     "data": {
      "text/html": [
       "<div>\n",
       "<style scoped>\n",
       "    .dataframe tbody tr th:only-of-type {\n",
       "        vertical-align: middle;\n",
       "    }\n",
       "\n",
       "    .dataframe tbody tr th {\n",
       "        vertical-align: top;\n",
       "    }\n",
       "\n",
       "    .dataframe thead th {\n",
       "        text-align: right;\n",
       "    }\n",
       "</style>\n",
       "<table border=\"1\" class=\"dataframe\">\n",
       "  <thead>\n",
       "    <tr style=\"text-align: right;\">\n",
       "      <th></th>\n",
       "      <th>BOROUGH</th>\n",
       "      <th>BLOCK</th>\n",
       "      <th>ZIP CODE</th>\n",
       "      <th>RESIDENTIAL UNITS</th>\n",
       "      <th>COMMERCIAL UNITS</th>\n",
       "      <th>TOTAL UNITS</th>\n",
       "      <th>LAND SQUARE FEET</th>\n",
       "      <th>GROSS SQUARE FEET</th>\n",
       "      <th>YEAR BUILT</th>\n",
       "      <th>TAX CLASS AT TIME OF SALE</th>\n",
       "      <th>SALE PRICE</th>\n",
       "      <th>SALE YEAR</th>\n",
       "      <th>LOG PRICE</th>\n",
       "      <th>AGE</th>\n",
       "    </tr>\n",
       "  </thead>\n",
       "  <tbody>\n",
       "    <tr>\n",
       "      <th>count</th>\n",
       "      <td>54382.000000</td>\n",
       "      <td>54382.000000</td>\n",
       "      <td>54382.000000</td>\n",
       "      <td>54382.000000</td>\n",
       "      <td>54382.000000</td>\n",
       "      <td>54382.000000</td>\n",
       "      <td>5.438200e+04</td>\n",
       "      <td>5.438200e+04</td>\n",
       "      <td>54382.000000</td>\n",
       "      <td>54382.000000</td>\n",
       "      <td>5.438200e+04</td>\n",
       "      <td>54382.000000</td>\n",
       "      <td>54382.000000</td>\n",
       "      <td>54382.000000</td>\n",
       "    </tr>\n",
       "    <tr>\n",
       "      <th>mean</th>\n",
       "      <td>2.976500</td>\n",
       "      <td>4230.140046</td>\n",
       "      <td>10823.947593</td>\n",
       "      <td>1.747177</td>\n",
       "      <td>0.161708</td>\n",
       "      <td>1.908885</td>\n",
       "      <td>2.235217e+03</td>\n",
       "      <td>2.209311e+03</td>\n",
       "      <td>1950.857030</td>\n",
       "      <td>1.597863</td>\n",
       "      <td>1.325412e+06</td>\n",
       "      <td>2016.657460</td>\n",
       "      <td>13.405647</td>\n",
       "      <td>65.800430</td>\n",
       "    </tr>\n",
       "    <tr>\n",
       "      <th>std</th>\n",
       "      <td>1.326188</td>\n",
       "      <td>3589.874755</td>\n",
       "      <td>645.270074</td>\n",
       "      <td>13.789601</td>\n",
       "      <td>10.139397</td>\n",
       "      <td>17.216402</td>\n",
       "      <td>2.765472e+04</td>\n",
       "      <td>2.131656e+04</td>\n",
       "      <td>34.374559</td>\n",
       "      <td>0.678550</td>\n",
       "      <td>3.928981e+06</td>\n",
       "      <td>0.474563</td>\n",
       "      <td>1.018331</td>\n",
       "      <td>34.374657</td>\n",
       "    </tr>\n",
       "    <tr>\n",
       "      <th>min</th>\n",
       "      <td>1.000000</td>\n",
       "      <td>1.000000</td>\n",
       "      <td>0.000000</td>\n",
       "      <td>0.000000</td>\n",
       "      <td>0.000000</td>\n",
       "      <td>0.000000</td>\n",
       "      <td>0.000000e+00</td>\n",
       "      <td>0.000000e+00</td>\n",
       "      <td>1111.000000</td>\n",
       "      <td>1.000000</td>\n",
       "      <td>2.352000e+03</td>\n",
       "      <td>2016.000000</td>\n",
       "      <td>7.763021</td>\n",
       "      <td>0.000000</td>\n",
       "    </tr>\n",
       "    <tr>\n",
       "      <th>25%</th>\n",
       "      <td>2.000000</td>\n",
       "      <td>1330.000000</td>\n",
       "      <td>10303.000000</td>\n",
       "      <td>0.000000</td>\n",
       "      <td>0.000000</td>\n",
       "      <td>0.000000</td>\n",
       "      <td>0.000000e+00</td>\n",
       "      <td>0.000000e+00</td>\n",
       "      <td>1925.000000</td>\n",
       "      <td>1.000000</td>\n",
       "      <td>3.850000e+05</td>\n",
       "      <td>2016.000000</td>\n",
       "      <td>12.860999</td>\n",
       "      <td>46.000000</td>\n",
       "    </tr>\n",
       "    <tr>\n",
       "      <th>50%</th>\n",
       "      <td>3.000000</td>\n",
       "      <td>3271.000000</td>\n",
       "      <td>11208.000000</td>\n",
       "      <td>1.000000</td>\n",
       "      <td>0.000000</td>\n",
       "      <td>1.000000</td>\n",
       "      <td>1.476000e+03</td>\n",
       "      <td>9.600000e+02</td>\n",
       "      <td>1949.000000</td>\n",
       "      <td>2.000000</td>\n",
       "      <td>6.300000e+05</td>\n",
       "      <td>2017.000000</td>\n",
       "      <td>13.353475</td>\n",
       "      <td>68.000000</td>\n",
       "    </tr>\n",
       "    <tr>\n",
       "      <th>75%</th>\n",
       "      <td>4.000000</td>\n",
       "      <td>6234.000000</td>\n",
       "      <td>11358.000000</td>\n",
       "      <td>2.000000</td>\n",
       "      <td>0.000000</td>\n",
       "      <td>2.000000</td>\n",
       "      <td>2.517000e+03</td>\n",
       "      <td>1.925000e+03</td>\n",
       "      <td>1970.000000</td>\n",
       "      <td>2.000000</td>\n",
       "      <td>1.050000e+06</td>\n",
       "      <td>2017.000000</td>\n",
       "      <td>13.864301</td>\n",
       "      <td>92.000000</td>\n",
       "    </tr>\n",
       "    <tr>\n",
       "      <th>max</th>\n",
       "      <td>5.000000</td>\n",
       "      <td>16319.000000</td>\n",
       "      <td>11694.000000</td>\n",
       "      <td>1844.000000</td>\n",
       "      <td>2261.000000</td>\n",
       "      <td>2261.000000</td>\n",
       "      <td>4.228300e+06</td>\n",
       "      <td>3.750565e+06</td>\n",
       "      <td>2017.000000</td>\n",
       "      <td>4.000000</td>\n",
       "      <td>1.260000e+08</td>\n",
       "      <td>2017.000000</td>\n",
       "      <td>18.651792</td>\n",
       "      <td>906.000000</td>\n",
       "    </tr>\n",
       "  </tbody>\n",
       "</table>\n",
       "</div>"
      ],
      "text/plain": [
       "            BOROUGH         BLOCK      ZIP CODE  RESIDENTIAL UNITS  \\\n",
       "count  54382.000000  54382.000000  54382.000000       54382.000000   \n",
       "mean       2.976500   4230.140046  10823.947593           1.747177   \n",
       "std        1.326188   3589.874755    645.270074          13.789601   \n",
       "min        1.000000      1.000000      0.000000           0.000000   \n",
       "25%        2.000000   1330.000000  10303.000000           0.000000   \n",
       "50%        3.000000   3271.000000  11208.000000           1.000000   \n",
       "75%        4.000000   6234.000000  11358.000000           2.000000   \n",
       "max        5.000000  16319.000000  11694.000000        1844.000000   \n",
       "\n",
       "       COMMERCIAL UNITS   TOTAL UNITS  LAND SQUARE FEET  GROSS SQUARE FEET  \\\n",
       "count      54382.000000  54382.000000      5.438200e+04       5.438200e+04   \n",
       "mean           0.161708      1.908885      2.235217e+03       2.209311e+03   \n",
       "std           10.139397     17.216402      2.765472e+04       2.131656e+04   \n",
       "min            0.000000      0.000000      0.000000e+00       0.000000e+00   \n",
       "25%            0.000000      0.000000      0.000000e+00       0.000000e+00   \n",
       "50%            0.000000      1.000000      1.476000e+03       9.600000e+02   \n",
       "75%            0.000000      2.000000      2.517000e+03       1.925000e+03   \n",
       "max         2261.000000   2261.000000      4.228300e+06       3.750565e+06   \n",
       "\n",
       "         YEAR BUILT  TAX CLASS AT TIME OF SALE    SALE PRICE     SALE YEAR  \\\n",
       "count  54382.000000               54382.000000  5.438200e+04  54382.000000   \n",
       "mean    1950.857030                   1.597863  1.325412e+06   2016.657460   \n",
       "std       34.374559                   0.678550  3.928981e+06      0.474563   \n",
       "min     1111.000000                   1.000000  2.352000e+03   2016.000000   \n",
       "25%     1925.000000                   1.000000  3.850000e+05   2016.000000   \n",
       "50%     1949.000000                   2.000000  6.300000e+05   2017.000000   \n",
       "75%     1970.000000                   2.000000  1.050000e+06   2017.000000   \n",
       "max     2017.000000                   4.000000  1.260000e+08   2017.000000   \n",
       "\n",
       "          LOG PRICE           AGE  \n",
       "count  54382.000000  54382.000000  \n",
       "mean      13.405647     65.800430  \n",
       "std        1.018331     34.374657  \n",
       "min        7.763021      0.000000  \n",
       "25%       12.860999     46.000000  \n",
       "50%       13.353475     68.000000  \n",
       "75%       13.864301     92.000000  \n",
       "max       18.651792    906.000000  "
      ]
     },
     "execution_count": 44,
     "metadata": {},
     "output_type": "execute_result"
    }
   ],
   "source": [
    "dataset.describe()"
   ]
  },
  {
   "cell_type": "code",
   "execution_count": 45,
   "metadata": {},
   "outputs": [
    {
     "data": {
      "text/plain": [
       "SALE PRICE                   1.000000\n",
       "LOG PRICE                    0.552712\n",
       "GROSS SQUARE FEET            0.239627\n",
       "TAX CLASS AT TIME OF SALE    0.223630\n",
       "RESIDENTIAL UNITS            0.190925\n",
       "TOTAL UNITS                  0.176649\n",
       "LAND SQUARE FEET             0.056188\n",
       "COMMERCIAL UNITS             0.040286\n",
       "AGE                          0.009354\n",
       "SALE YEAR                   -0.003166\n",
       "YEAR BUILT                  -0.009398\n",
       "ZIP CODE                    -0.131858\n",
       "BLOCK                       -0.153064\n",
       "BOROUGH                     -0.190141\n",
       "Name: SALE PRICE, dtype: float64"
      ]
     },
     "execution_count": 45,
     "metadata": {},
     "output_type": "execute_result"
    }
   ],
   "source": [
    "# Based on these features, I will be selecting some of the features for my models\n",
    "corr_matrix=dataset.corr()\n",
    "corr_matrix[\"SALE PRICE\"].sort_values(ascending=False)  "
   ]
  },
  {
   "cell_type": "code",
   "execution_count": 46,
   "metadata": {},
   "outputs": [
    {
     "name": "stdout",
     "output_type": "stream",
     "text": [
      "<class 'pandas.core.frame.DataFrame'>\n",
      "Int64Index: 54382 entries, 0 to 84547\n",
      "Data columns (total 23 columns):\n",
      "BOROUGH                           54382 non-null int64\n",
      "BUILDING CLASS CATEGORY           54382 non-null object\n",
      "TAX CLASS AT PRESENT              54382 non-null object\n",
      "BLOCK                             54382 non-null int64\n",
      "BUILDING CLASS AT PRESENT         54382 non-null object\n",
      "ZIP CODE                          54382 non-null int64\n",
      "RESIDENTIAL UNITS                 54382 non-null int64\n",
      "COMMERCIAL UNITS                  54382 non-null int64\n",
      "TOTAL UNITS                       54382 non-null int64\n",
      "LAND SQUARE FEET                  54382 non-null float64\n",
      "GROSS SQUARE FEET                 54382 non-null float64\n",
      "YEAR BUILT                        54382 non-null int64\n",
      "TAX CLASS AT TIME OF SALE         54382 non-null int64\n",
      "BUILDING CLASS AT TIME OF SALE    54382 non-null object\n",
      "SALE PRICE                        54382 non-null float64\n",
      "SALE DATE                         54382 non-null datetime64[ns]\n",
      "SALE YEAR                         54382 non-null int64\n",
      "LOG PRICE                         54382 non-null float64\n",
      "BCC                               54382 non-null object\n",
      "TCAP                              54382 non-null object\n",
      "BCAP                              54382 non-null object\n",
      "BCATOS                            54382 non-null object\n",
      "AGE                               54382 non-null int64\n",
      "dtypes: datetime64[ns](1), float64(4), int64(10), object(8)\n",
      "memory usage: 10.0+ MB\n"
     ]
    }
   ],
   "source": [
    "dataset.info()"
   ]
  },
  {
   "cell_type": "markdown",
   "metadata": {},
   "source": [
    "### Separating the independent and dependent variables"
   ]
  },
  {
   "cell_type": "code",
   "execution_count": 47,
   "metadata": {},
   "outputs": [],
   "source": [
    "indpt_attribs=[\"BOROUGH\",\"ZIP CODE\",\"BLOCK\",\"RESIDENTIAL UNITS\",\"TOTAL UNITS\",\"LAND SQUARE FEET\",\"GROSS SQUARE FEET\",\n",
    "               \"TAX CLASS AT TIME OF SALE\",\"BCATOS\",\"BCC\",\"TCAP\",\"BCAP\",\"LOG PRICE\"]\n",
    "X=dataset.loc[:,indpt_attribs]\n",
    "y=dataset.loc[:,\"SALE PRICE\"]"
   ]
  },
  {
   "cell_type": "code",
   "execution_count": 48,
   "metadata": {},
   "outputs": [
    {
     "data": {
      "text/html": [
       "<div>\n",
       "<style scoped>\n",
       "    .dataframe tbody tr th:only-of-type {\n",
       "        vertical-align: middle;\n",
       "    }\n",
       "\n",
       "    .dataframe tbody tr th {\n",
       "        vertical-align: top;\n",
       "    }\n",
       "\n",
       "    .dataframe thead th {\n",
       "        text-align: right;\n",
       "    }\n",
       "</style>\n",
       "<table border=\"1\" class=\"dataframe\">\n",
       "  <thead>\n",
       "    <tr style=\"text-align: right;\">\n",
       "      <th></th>\n",
       "      <th>BOROUGH</th>\n",
       "      <th>ZIP CODE</th>\n",
       "      <th>BLOCK</th>\n",
       "      <th>RESIDENTIAL UNITS</th>\n",
       "      <th>TOTAL UNITS</th>\n",
       "      <th>LAND SQUARE FEET</th>\n",
       "      <th>GROSS SQUARE FEET</th>\n",
       "      <th>TAX CLASS AT TIME OF SALE</th>\n",
       "      <th>BCATOS</th>\n",
       "      <th>BCC</th>\n",
       "      <th>TCAP</th>\n",
       "      <th>BCAP</th>\n",
       "      <th>LOG PRICE</th>\n",
       "    </tr>\n",
       "  </thead>\n",
       "  <tbody>\n",
       "    <tr>\n",
       "      <th>0</th>\n",
       "      <td>1</td>\n",
       "      <td>10009</td>\n",
       "      <td>392</td>\n",
       "      <td>5</td>\n",
       "      <td>5</td>\n",
       "      <td>1633.0</td>\n",
       "      <td>6440.0</td>\n",
       "      <td>2</td>\n",
       "      <td>4</td>\n",
       "      <td>5</td>\n",
       "      <td>3</td>\n",
       "      <td>4</td>\n",
       "      <td>15.706361</td>\n",
       "    </tr>\n",
       "    <tr>\n",
       "      <th>3</th>\n",
       "      <td>1</td>\n",
       "      <td>10009</td>\n",
       "      <td>402</td>\n",
       "      <td>10</td>\n",
       "      <td>10</td>\n",
       "      <td>2272.0</td>\n",
       "      <td>6794.0</td>\n",
       "      <td>2</td>\n",
       "      <td>4</td>\n",
       "      <td>5</td>\n",
       "      <td>3</td>\n",
       "      <td>4</td>\n",
       "      <td>15.185745</td>\n",
       "    </tr>\n",
       "    <tr>\n",
       "      <th>4</th>\n",
       "      <td>1</td>\n",
       "      <td>10009</td>\n",
       "      <td>404</td>\n",
       "      <td>6</td>\n",
       "      <td>6</td>\n",
       "      <td>2369.0</td>\n",
       "      <td>4615.0</td>\n",
       "      <td>2</td>\n",
       "      <td>4</td>\n",
       "      <td>5</td>\n",
       "      <td>3</td>\n",
       "      <td>4</td>\n",
       "      <td>15.894952</td>\n",
       "    </tr>\n",
       "    <tr>\n",
       "      <th>6</th>\n",
       "      <td>1</td>\n",
       "      <td>10009</td>\n",
       "      <td>406</td>\n",
       "      <td>8</td>\n",
       "      <td>8</td>\n",
       "      <td>1750.0</td>\n",
       "      <td>4226.0</td>\n",
       "      <td>2</td>\n",
       "      <td>4</td>\n",
       "      <td>5</td>\n",
       "      <td>3</td>\n",
       "      <td>4</td>\n",
       "      <td>14.976421</td>\n",
       "    </tr>\n",
       "    <tr>\n",
       "      <th>9</th>\n",
       "      <td>1</td>\n",
       "      <td>10009</td>\n",
       "      <td>387</td>\n",
       "      <td>24</td>\n",
       "      <td>24</td>\n",
       "      <td>4489.0</td>\n",
       "      <td>18523.0</td>\n",
       "      <td>2</td>\n",
       "      <td>4</td>\n",
       "      <td>5</td>\n",
       "      <td>1</td>\n",
       "      <td>4</td>\n",
       "      <td>16.602495</td>\n",
       "    </tr>\n",
       "  </tbody>\n",
       "</table>\n",
       "</div>"
      ],
      "text/plain": [
       "   BOROUGH  ZIP CODE  BLOCK  RESIDENTIAL UNITS  TOTAL UNITS  LAND SQUARE FEET  \\\n",
       "0        1     10009    392                  5            5            1633.0   \n",
       "3        1     10009    402                 10           10            2272.0   \n",
       "4        1     10009    404                  6            6            2369.0   \n",
       "6        1     10009    406                  8            8            1750.0   \n",
       "9        1     10009    387                 24           24            4489.0   \n",
       "\n",
       "   GROSS SQUARE FEET  TAX CLASS AT TIME OF SALE BCATOS BCC TCAP BCAP  \\\n",
       "0             6440.0                          2      4   5    3    4   \n",
       "3             6794.0                          2      4   5    3    4   \n",
       "4             4615.0                          2      4   5    3    4   \n",
       "6             4226.0                          2      4   5    3    4   \n",
       "9            18523.0                          2      4   5    1    4   \n",
       "\n",
       "   LOG PRICE  \n",
       "0  15.706361  \n",
       "3  15.185745  \n",
       "4  15.894952  \n",
       "6  14.976421  \n",
       "9  16.602495  "
      ]
     },
     "execution_count": 48,
     "metadata": {},
     "output_type": "execute_result"
    }
   ],
   "source": [
    "X.head()"
   ]
  },
  {
   "cell_type": "markdown",
   "metadata": {},
   "source": [
    "### Creating the training and test datasets"
   ]
  },
  {
   "cell_type": "code",
   "execution_count": 49,
   "metadata": {},
   "outputs": [],
   "source": [
    "X_train,X_test,y_train,y_test=train_test_split(X,y,test_size=0.2,random_state=42)"
   ]
  },
  {
   "cell_type": "markdown",
   "metadata": {},
   "source": [
    "### This pipeline will help in imputing and scaling the data \n",
    "           By doing this, the data will fit better to the model and obviously it will handle only numerical attributes only"
   ]
  },
  {
   "cell_type": "code",
   "execution_count": 50,
   "metadata": {},
   "outputs": [],
   "source": [
    "num_pipeline=Pipeline([\n",
    "    (\"impute\",SimpleImputer(missing_values=0,strategy=\"median\")),\n",
    "    (\"scaler\",StandardScaler())\n",
    "])"
   ]
  },
  {
   "cell_type": "markdown",
   "metadata": {},
   "source": [
    "### Pre-processing pipeline\n",
    "    I have created another pipeline which consists of numerical and categorical pipeline. It handles the categorical and\n",
    "    numerical data and returns a numpy array consisting of all the processed features."
   ]
  },
  {
   "cell_type": "code",
   "execution_count": 51,
   "metadata": {},
   "outputs": [],
   "source": [
    "num_attribs=[\"BLOCK\",\"ZIP CODE\",\"TOTAL UNITS\",\"RESIDENTIAL UNITS\",\"LAND SQUARE FEET\",\"GROSS SQUARE FEET\",\"LOG PRICE\"]\n",
    "cat_attribs=[\"BOROUGH\",\"BCC\",\"TCAP\",\"BCAP\",\"TAX CLASS AT TIME OF SALE\",\"BCATOS\"]\n",
    "\n",
    "preprocessing_pipeline=ColumnTransformer([\n",
    "    (\"num\",num_pipeline,num_attribs),\n",
    "    (\"cat\",OneHotEncoder(sparse=False,categories=\"auto\"),cat_attribs)\n",
    "])"
   ]
  },
  {
   "cell_type": "markdown",
   "metadata": {},
   "source": [
    "### Fitting and transforming training data through pipeline"
   ]
  },
  {
   "cell_type": "code",
   "execution_count": 52,
   "metadata": {},
   "outputs": [],
   "source": [
    "housing_prepared=preprocessing_pipeline.fit_transform(X_train)"
   ]
  },
  {
   "cell_type": "code",
   "execution_count": 53,
   "metadata": {},
   "outputs": [
    {
     "data": {
      "text/plain": [
       "(43505, 31)"
      ]
     },
     "execution_count": 53,
     "metadata": {},
     "output_type": "execute_result"
    }
   ],
   "source": [
    "housing_prepared.shape"
   ]
  },
  {
   "cell_type": "markdown",
   "metadata": {},
   "source": [
    "### 1. Linear Regression"
   ]
  },
  {
   "cell_type": "code",
   "execution_count": 54,
   "metadata": {},
   "outputs": [
    {
     "data": {
      "text/plain": [
       "LinearRegression(copy_X=True, fit_intercept=True, n_jobs=None, normalize=False)"
      ]
     },
     "execution_count": 54,
     "metadata": {},
     "output_type": "execute_result"
    }
   ],
   "source": [
    "lin_reg=LinearRegression()\n",
    "lin_reg.fit(housing_prepared,y_train)"
   ]
  },
  {
   "cell_type": "markdown",
   "metadata": {},
   "source": [
    "Testing the model on test data and then calculating the mean squared error"
   ]
  },
  {
   "cell_type": "code",
   "execution_count": 55,
   "metadata": {},
   "outputs": [],
   "source": [
    "X_test_prep1=preprocessing_pipeline.transform(X_test)\n",
    "lin_reg_predict=lin_reg.predict(X_test_prep1)"
   ]
  },
  {
   "cell_type": "code",
   "execution_count": 56,
   "metadata": {},
   "outputs": [
    {
     "data": {
      "text/plain": [
       "3084791.793518974"
      ]
     },
     "execution_count": 56,
     "metadata": {},
     "output_type": "execute_result"
    }
   ],
   "source": [
    "# Turns out the mse is too high for this model, lets test out other models\n",
    "lin_mse=mean_squared_error(lin_reg_predict,y_test)\n",
    "lin_rmse=np.sqrt(lin_mse)\n",
    "lin_rmse"
   ]
  },
  {
   "cell_type": "markdown",
   "metadata": {},
   "source": [
    "The model performed very badly on the test data; So before we test the models on test data, we have to tune the model on the train data using cross validation."
   ]
  },
  {
   "cell_type": "code",
   "execution_count": 57,
   "metadata": {},
   "outputs": [],
   "source": [
    "lin_mse=cross_val_score(lin_reg,housing_prepared,y_train,\n",
    "                        scoring=\"neg_mean_squared_error\",cv=10)\n",
    "lin_rmse=np.sqrt(-lin_mse)"
   ]
  },
  {
   "cell_type": "markdown",
   "metadata": {},
   "source": [
    "Seems like the model is still underfitting the data,the mse is still the same as it was on test data. We have to use another advanced model."
   ]
  },
  {
   "cell_type": "code",
   "execution_count": 58,
   "metadata": {},
   "outputs": [
    {
     "name": "stdout",
     "output_type": "stream",
     "text": [
      "Scores: [3212359.23158195 3689743.00576549 3165885.34085627 3484872.01846974\n",
      " 4916326.03829036 3234108.23043964 3934906.42678008 2278032.4778671\n",
      " 3027029.98221703 3388183.89449062]\n",
      "Mean: 3433144.664675828\n",
      "Standard deviation: 646616.9118414894\n"
     ]
    }
   ],
   "source": [
    "display_scores(lin_rmse)"
   ]
  },
  {
   "cell_type": "markdown",
   "metadata": {},
   "source": [
    "### 2. Random Forest Regressor"
   ]
  },
  {
   "cell_type": "code",
   "execution_count": 59,
   "metadata": {},
   "outputs": [
    {
     "data": {
      "text/plain": [
       "RandomForestRegressor(bootstrap=True, criterion='mse', max_depth=None,\n",
       "                      max_features='auto', max_leaf_nodes=None,\n",
       "                      min_impurity_decrease=0.0, min_impurity_split=None,\n",
       "                      min_samples_leaf=1, min_samples_split=2,\n",
       "                      min_weight_fraction_leaf=0.0, n_estimators=10,\n",
       "                      n_jobs=None, oob_score=False, random_state=42, verbose=0,\n",
       "                      warm_start=False)"
      ]
     },
     "execution_count": 59,
     "metadata": {},
     "output_type": "execute_result"
    }
   ],
   "source": [
    "forest_reg=RandomForestRegressor(n_estimators=10,random_state=42)\n",
    "forest_reg.fit(housing_prepared,y_train)"
   ]
  },
  {
   "cell_type": "markdown",
   "metadata": {},
   "source": [
    "The model performed a lot better than linear regression but lets try to do some tuning and see if we can increase the accuracy before we can finalize the model."
   ]
  },
  {
   "cell_type": "code",
   "execution_count": 60,
   "metadata": {},
   "outputs": [
    {
     "name": "stdout",
     "output_type": "stream",
     "text": [
      "Scores: [76195.57753984 61500.52576311 74257.15306488 71809.26769801\n",
      " 60545.12899445 89506.86629392 57081.51664791 14393.89201258\n",
      " 36649.75800001 94035.59320018]\n",
      "Mean: 63597.52792148993\n",
      "Standard deviation: 22673.53923833774\n"
     ]
    }
   ],
   "source": [
    "forest_reg_mse=cross_val_score(forest_reg,housing_prepared,y_train,cv=10,\n",
    "                              scoring=\"neg_mean_squared_error\")\n",
    "forest_reg_rmse=np.sqrt(-forest_reg_mse)\n",
    "display_scores(forest_reg_rmse)"
   ]
  },
  {
   "cell_type": "markdown",
   "metadata": {},
   "source": [
    "The models' performance seems to be within acceptable range with just error of 41000$ in the sale price. But before choosing this as my final model, lets try to do some tuning and see if we can further reduce the error."
   ]
  },
  {
   "cell_type": "code",
   "execution_count": 61,
   "metadata": {},
   "outputs": [
    {
     "data": {
      "text/plain": [
       "41397.99265217469"
      ]
     },
     "execution_count": 61,
     "metadata": {},
     "output_type": "execute_result"
    }
   ],
   "source": [
    "X_test_prep1=preprocessing_pipeline.transform(X_test)\n",
    "final_predictions=forest_reg.predict(X_test_prep1)\n",
    "\n",
    "forest_mse=mean_squared_error(y_test,final_predictions)\n",
    "forest_rmse=np.sqrt(forest_mse)\n",
    "forest_rmse"
   ]
  },
  {
   "cell_type": "markdown",
   "metadata": {},
   "source": [
    "I will optimize the model using the grid search cv, where I can provide different values for each different parameters and find the best suited for the model. Its kind of hit and trial method."
   ]
  },
  {
   "cell_type": "code",
   "execution_count": 62,
   "metadata": {},
   "outputs": [],
   "source": [
    "forest_reg1=RandomForestRegressor(random_state=42)\n",
    "params=[\n",
    "      {\"n_estimators\":[3,5,10,14,30],\"max_features\":[2,4,6,8]},\n",
    "    {\"bootstrap\":[False],\"n_estimators\":[8,9,11,12],\"max_features\":[10,11,12,15]}   \n",
    "]\n",
    "grid_search_1=GridSearchCV(forest_reg1,params,cv=5,\n",
    "                        return_train_score=True,scoring=\"neg_mean_squared_error\")"
   ]
  },
  {
   "cell_type": "code",
   "execution_count": 63,
   "metadata": {},
   "outputs": [
    {
     "data": {
      "text/plain": [
       "GridSearchCV(cv=5, error_score='raise-deprecating',\n",
       "             estimator=RandomForestRegressor(bootstrap=True, criterion='mse',\n",
       "                                             max_depth=None,\n",
       "                                             max_features='auto',\n",
       "                                             max_leaf_nodes=None,\n",
       "                                             min_impurity_decrease=0.0,\n",
       "                                             min_impurity_split=None,\n",
       "                                             min_samples_leaf=1,\n",
       "                                             min_samples_split=2,\n",
       "                                             min_weight_fraction_leaf=0.0,\n",
       "                                             n_estimators='warn', n_jobs=None,\n",
       "                                             oob_score=False, random_state=42,\n",
       "                                             verbose=0, warm_start=False),\n",
       "             iid='warn', n_jobs=None,\n",
       "             param_grid=[{'max_features': [2, 4, 6, 8],\n",
       "                          'n_estimators': [3, 5, 10, 14, 30]},\n",
       "                         {'bootstrap': [False],\n",
       "                          'max_features': [10, 11, 12, 15],\n",
       "                          'n_estimators': [8, 9, 11, 12]}],\n",
       "             pre_dispatch='2*n_jobs', refit=True, return_train_score=True,\n",
       "             scoring='neg_mean_squared_error', verbose=0)"
      ]
     },
     "execution_count": 63,
     "metadata": {},
     "output_type": "execute_result"
    }
   ],
   "source": [
    "grid_search_1.fit(housing_prepared,y_train)"
   ]
  },
  {
   "cell_type": "markdown",
   "metadata": {},
   "source": [
    "As we can see that for **n_estimators** the algorithm chose the highest value, so it is possible that it could chose a higher value and provide much better results. But before we do that, lets check the rmse and evaluate the performance of this model on the test set."
   ]
  },
  {
   "cell_type": "code",
   "execution_count": 64,
   "metadata": {},
   "outputs": [
    {
     "data": {
      "text/plain": [
       "{'bootstrap': False, 'max_features': 15, 'n_estimators': 12}"
      ]
     },
     "execution_count": 64,
     "metadata": {},
     "output_type": "execute_result"
    }
   ],
   "source": [
    "grid_search_1.best_params_"
   ]
  },
  {
   "cell_type": "markdown",
   "metadata": {},
   "source": [
    "The model seems to perform very poorly on the test set. The reason behind it could be that the model is overfitting the training data very badly. Lets try to use different set of parameters and see if the performance improves."
   ]
  },
  {
   "cell_type": "code",
   "execution_count": 65,
   "metadata": {},
   "outputs": [
    {
     "data": {
      "text/plain": [
       "233076.2496323758"
      ]
     },
     "execution_count": 65,
     "metadata": {},
     "output_type": "execute_result"
    }
   ],
   "source": [
    "rfr_model1=grid_search_1.best_estimator_\n",
    "\n",
    "final_predictions=rfr_model1.predict(X_test_prep1)\n",
    "\n",
    "rfr_mse=mean_squared_error(y_test,final_predictions)\n",
    "rfr_rmse=np.sqrt(rfr_mse)\n",
    "rfr_rmse"
   ]
  },
  {
   "cell_type": "markdown",
   "metadata": {},
   "source": [
    "Trying out the Random forest model with different set of values. I have not shown 2 iterations that I peformed with different set of values because it would have made the code very long."
   ]
  },
  {
   "cell_type": "code",
   "execution_count": 66,
   "metadata": {},
   "outputs": [],
   "source": [
    "params=[\n",
    "      {\"bootstrap\":[False],\"n_estimators\":[18,19,20,22,25],\"max_features\":[20,22,23,24,26]}]  # changing the values for parameters   \n",
    "\n",
    "grid_search_2=GridSearchCV(forest_reg1,params,cv=5,\n",
    "                        return_train_score=True,scoring=\"neg_mean_squared_error\")"
   ]
  },
  {
   "cell_type": "code",
   "execution_count": 67,
   "metadata": {},
   "outputs": [
    {
     "data": {
      "text/plain": [
       "GridSearchCV(cv=5, error_score='raise-deprecating',\n",
       "             estimator=RandomForestRegressor(bootstrap=True, criterion='mse',\n",
       "                                             max_depth=None,\n",
       "                                             max_features='auto',\n",
       "                                             max_leaf_nodes=None,\n",
       "                                             min_impurity_decrease=0.0,\n",
       "                                             min_impurity_split=None,\n",
       "                                             min_samples_leaf=1,\n",
       "                                             min_samples_split=2,\n",
       "                                             min_weight_fraction_leaf=0.0,\n",
       "                                             n_estimators='warn', n_jobs=None,\n",
       "                                             oob_score=False, random_state=42,\n",
       "                                             verbose=0, warm_start=False),\n",
       "             iid='warn', n_jobs=None,\n",
       "             param_grid=[{'bootstrap': [False],\n",
       "                          'max_features': [20, 22, 23, 24, 26],\n",
       "                          'n_estimators': [18, 19, 20, 22, 25]}],\n",
       "             pre_dispatch='2*n_jobs', refit=True, return_train_score=True,\n",
       "             scoring='neg_mean_squared_error', verbose=0)"
      ]
     },
     "execution_count": 67,
     "metadata": {},
     "output_type": "execute_result"
    }
   ],
   "source": [
    "grid_search_2.fit(housing_prepared,y_train)"
   ]
  },
  {
   "cell_type": "code",
   "execution_count": 68,
   "metadata": {},
   "outputs": [
    {
     "data": {
      "text/plain": [
       "{'bootstrap': False, 'max_features': 26, 'n_estimators': 22}"
      ]
     },
     "execution_count": 68,
     "metadata": {},
     "output_type": "execute_result"
    }
   ],
   "source": [
    "grid_search_2.best_params_"
   ]
  },
  {
   "cell_type": "markdown",
   "metadata": {},
   "source": [
    "I have tried several other iterations with different parameters but the model performance does not seem to get any better."
   ]
  },
  {
   "cell_type": "code",
   "execution_count": 69,
   "metadata": {},
   "outputs": [
    {
     "data": {
      "text/plain": [
       "79544.91360519669"
      ]
     },
     "execution_count": 69,
     "metadata": {},
     "output_type": "execute_result"
    }
   ],
   "source": [
    "rfr_model_2=grid_search_2.best_estimator_\n",
    "\n",
    "final_predictions=rfr_model_2.predict(X_test_prep1)\n",
    "\n",
    "rfr_mse=mean_squared_error(y_test,final_predictions)\n",
    "rfr_rmse=np.sqrt(rfr_mse)\n",
    "rfr_rmse"
   ]
  },
  {
   "cell_type": "markdown",
   "metadata": {},
   "source": [
    "### This function will help in analyzing if the model is not overfitting or underfitting the data"
   ]
  },
  {
   "cell_type": "code",
   "execution_count": 70,
   "metadata": {},
   "outputs": [],
   "source": [
    "def plot_learning_curves(model,X,y):\n",
    "    X_train,X_val,y_train,y_val=train_test_split(X,y,test_size=0.2)\n",
    "    train_errors,val_errors=[],[]\n",
    "    for i in range(1,len(X_train)):\n",
    "        model.fit(X_train[:i],y_train[:i])\n",
    "        y_train_predict=model.predict(X_train[:i])\n",
    "        y_val_predict=model.predict(X_val)\n",
    "        train_errors.append(mean_squared_error(y_train_predict,y_train[:i]))\n",
    "        val_errors.append(mean_squared_error(y_val_predict,y_val))\n",
    "    plt.figure(figsize=(15,10))\n",
    "    plt.plot(np.sqrt(train_errors),\"r-+\",linewidth=2,label=\"Train Error\")\n",
    "    plt.plot(np.sqrt(val_errors),\"b-+\",linewidth=3,label=\"Validaton Error\")"
   ]
  },
  {
   "cell_type": "markdown",
   "metadata": {},
   "source": [
    "### Its taking so much time to run all the instances through this plotting function, so i am going to show till 25000 instances only."
   ]
  },
  {
   "cell_type": "code",
   "execution_count": 71,
   "metadata": {},
   "outputs": [
    {
     "data": {
      "image/png": "[encoded data removed]",
      "text/plain": [
       "<Figure size 1080x720 with 1 Axes>"
      ]
     },
     "metadata": {
      "needs_background": "light"
     },
     "output_type": "display_data"
    }
   ],
   "source": [
    "forest_reg1=RandomForestRegressor(n_estimators=10,random_state=42)\n",
    "plot_learning_curves(forest_reg1,housing_prepared[:25000],y_train[:25000])"
   ]
  }
 ],
 "metadata": {
  "kernelspec": {
   "display_name": "Python 3",
   "language": "python",
   "name": "python3"
  },
  "language_info": {
   "codemirror_mode": {
    "name": "ipython",
    "version": 3
   },
   "file_extension": ".py",
   "mimetype": "text/x-python",
   "name": "python",
   "nbconvert_exporter": "python",
   "pygments_lexer": "ipython3",
   "version": "3.6.6"
  }
 },
 "nbformat": 4,
 "nbformat_minor": 1
}
